{
 "cells": [
  {
   "cell_type": "code",
   "execution_count": 1,
   "metadata": {},
   "outputs": [
    {
     "data": {
      "text/plain": [
       "'cherry'"
      ]
     },
     "execution_count": 1,
     "metadata": {},
     "output_type": "execute_result"
    }
   ],
   "source": [
    "import numpy as np\n",
    "import cv2\n",
    "import matplotlib.pyplot as plt\n",
    "\n",
    "path = 'Digital Image Processing/myph2.jpg'\n",
    "img = cv2.imread(path,0)\n",
    "print(img.shape)\n",
    "\n",
    "img = cv2.resize(img,(512,512))\n",
    "h,w = img.shape\n",
    "\n",
    "\n",
    "import numpy as np\n",
    "import cv2\n",
    "import matplotlib.pyplot as plt\n",
    "\n",
    "path = 'Digital Image Processing/Images/aaa.jpg'\n",
    "img = cv2.imread(path,0)\n",
    "print(img.shape)\n",
    "\n",
    "img = cv2.resize(img,(512,512))\n",
    "\n",
    "h,w = img.shape\n",
    "\n",
    "arr = np.zeros(256, dtype= int)\n",
    "for row in img:\n",
    "    for pixel_value in row:\n",
    "        # Do something with the pixel value\n",
    "        print(f\"Pixel Value: {pixel_value}\")\n"
   ]
  }
 ],
 "metadata": {
  "kernelspec": {
   "display_name": "Python 3",
   "language": "python",
   "name": "python3"
  },
  "language_info": {
   "codemirror_mode": {
    "name": "ipython",
    "version": 3
   },
   "file_extension": ".py",
   "mimetype": "text/x-python",
   "name": "python",
   "nbconvert_exporter": "python",
   "pygments_lexer": "ipython3",
   "version": "3.11.4"
  }
 },
 "nbformat": 4,
 "nbformat_minor": 2
}
